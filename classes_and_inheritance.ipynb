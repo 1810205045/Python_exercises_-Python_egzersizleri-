{
 "cells": [
  {
   "cell_type": "code",
   "execution_count": 50,
   "id": "dcf079db",
   "metadata": {},
   "outputs": [],
   "source": [
    "class animals():\n",
    "    def __init__(self,first_name,second_name,life_spawn,size,kind,relatives):\n",
    "        self.first_name =first_name\n",
    "        self.second_name= second_name\n",
    "        self.life_spawn=life_spawn\n",
    "        self.size=size\n",
    "        self.kind=kind\n",
    "        self.relatives=relatives\n",
    "    def Info_animal(self):\n",
    "        print(\"\"\"\n",
    "        name(latin): {} {}\n",
    "        life spawn: {}\n",
    "        size: {}\n",
    "        kind: {}\n",
    "        relatives: {}\n",
    "         \"\"\".format(self.first_name,self.second_name,self.life_spawn,self.size,self.kind,self.relatives))\n",
    "    def Add_new_relative(self,i):\n",
    "        self.relatives.append(i)\n",
    "        print(\"new relative added\")\n",
    "class mamals(animals):\n",
    "    def __init__(self,first_name,second_name,life_spawn,size,kind,relatives,pregnant_time,pregnant= False):\n",
    "        self.first_name =first_name\n",
    "        self.second_name= second_name\n",
    "        self.life_spawn=life_spawn\n",
    "        self.size=size\n",
    "        self.kind=kind\n",
    "        self.relatives=relatives\n",
    "        self.pregnant_time=pregnant_time\n",
    "        self.pregnant=pregnant\n",
    "    def Pregnant(self):\n",
    "        x=int(input(\"is she pregnant? if she press one, if she not press zero\"))\n",
    "        if(x==1):\n",
    "            pregnant=True\n",
    "            print(\"subject become pregnant\")\n",
    "        else:\n",
    "            pregnant=False\n",
    "            print(\"subject is not pregnant\")\n",
    "        self.pregnant=pregnant\n",
    "    def Info_pregnant(self):\n",
    "        print(\"\"\"\n",
    "        pregnant: {}\n",
    "        pregnant time(days):{}\n",
    "         \"\"\".format(self.pregnant,self.pregnant_time))\n",
    "    def Roar(self):\n",
    "        size=self.size\n",
    "        print(\"roaing:\\t\")\n",
    "        if (size== \"tiny\" or size==\"small\"):\n",
    "            print(\"wuf\")\n",
    "        if (size==\"medium\" or size==\"large\"):\n",
    "            print(\"wuff-woof\")\n",
    "        if (size ==\"huge\"):\n",
    "            print(\"woof-WOOF\")\n",
    "        if(size==\"gargantuan\"):\n",
    "            print(\"WOOOOOF-WOOOOF\")\n",
    "class reptiles(animals):\n",
    "    def Roar(self):\n",
    "        size=self.size\n",
    "        print(\"roaing:\\t\")\n",
    "        if (size== \"tiny\" or size==\"small\"):\n",
    "            print(\"tshh\")\n",
    "        if (size==\"medium\" or size==\"large\"):\n",
    "            print(\"tshshsh\")\n",
    "        if (size ==\"huge\"):\n",
    "            print(\"goahhhhh\")\n",
    "        if(size==\"gargantuan\"):\n",
    "            print(\"ROAHHHHHHHHH\")\n",
    "                  \n",
    "        \n",
    "        "
   ]
  },
  {
   "cell_type": "code",
   "execution_count": 51,
   "id": "955e3821",
   "metadata": {},
   "outputs": [
    {
     "name": "stdout",
     "output_type": "stream",
     "text": [
      "\n",
      "        name(latin): felis lupus\n",
      "        life spawn: 20\n",
      "        size: medium\n",
      "        kind: wolf\n",
      "        relatives: ['dogs']\n",
      "         \n",
      "is she pregnant? if she press one, if she not press zero1\n",
      "subject become pregnant\n",
      "\n",
      "        pregnant: True\n",
      "        pregnant time(days):62\n",
      "         \n",
      "roaing:\t\n",
      "wuff-woof\n"
     ]
    }
   ],
   "source": [
    "bozkurt= mamals(\"felis\",\"lupus\",20,\"medium\",\"wolf\",[\"dogs\"],62,)\n",
    "bozkurt.Info_animal()\n",
    "bozkurt.Pregnant()\n",
    "bozkurt.Info_pregnant()\n",
    "bozkurt.Roar()"
   ]
  },
  {
   "cell_type": "code",
   "execution_count": 52,
   "id": "a2fad78e",
   "metadata": {},
   "outputs": [
    {
     "name": "stdout",
     "output_type": "stream",
     "text": [
      "\n",
      "        name(latin): snakus colubra\n",
      "        life spawn: 5\n",
      "        size: small\n",
      "        kind: snake\n",
      "        relatives: ['comodo dragon', 'anaconda', 'kobra']\n",
      "         \n",
      "roaing:\t\n",
      "tshh\n"
     ]
    }
   ],
   "source": [
    "bull_snake= reptiles(\"snakus\",\"colubra\",5,\"small\",\"snake\",[\"comodo dragon\",\"anaconda\",\"kobra\"])\n",
    "bull_snake.Info_animal()\n",
    "bull_snake.Roar()"
   ]
  },
  {
   "cell_type": "code",
   "execution_count": null,
   "id": "55cda27e",
   "metadata": {},
   "outputs": [],
   "source": []
  }
 ],
 "metadata": {
  "kernelspec": {
   "display_name": "Python 3 (ipykernel)",
   "language": "python",
   "name": "python3"
  },
  "language_info": {
   "codemirror_mode": {
    "name": "ipython",
    "version": 3
   },
   "file_extension": ".py",
   "mimetype": "text/x-python",
   "name": "python",
   "nbconvert_exporter": "python",
   "pygments_lexer": "ipython3",
   "version": "3.9.13"
  }
 },
 "nbformat": 4,
 "nbformat_minor": 5
}

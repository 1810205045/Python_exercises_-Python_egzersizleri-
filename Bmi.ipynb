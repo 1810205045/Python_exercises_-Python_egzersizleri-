{
 "cells": [
  {
   "cell_type": "code",
   "execution_count": 2,
   "id": "a9673eef",
   "metadata": {},
   "outputs": [
    {
     "name": "stdout",
     "output_type": "stream",
     "text": [
      "weight:90\n",
      "height:178\n",
      "slim\n"
     ]
    }
   ],
   "source": [
    "weight=float(input(\"weight:\"))\n",
    "height=float(input(\"height:\"))\n",
    "bmi=weight/(height**2)\n",
    "if (bmi<18.5):\n",
    "    print(\"slim\")\n",
    "elif (bmi<=25):\n",
    "    print(\"normal\")\n",
    "elif (bmi<=30):\n",
    "    print(\"fat\")\n",
    "else:\n",
    "    print(\"overfat\")"
   ]
  },
  {
   "cell_type": "code",
   "execution_count": null,
   "id": "37d3c989",
   "metadata": {},
   "outputs": [],
   "source": []
  }
 ],
 "metadata": {
  "kernelspec": {
   "display_name": "Python 3 (ipykernel)",
   "language": "python",
   "name": "python3"
  },
  "language_info": {
   "codemirror_mode": {
    "name": "ipython",
    "version": 3
   },
   "file_extension": ".py",
   "mimetype": "text/x-python",
   "name": "python",
   "nbconvert_exporter": "python",
   "pygments_lexer": "ipython3",
   "version": "3.9.13"
  }
 },
 "nbformat": 4,
 "nbformat_minor": 5
}

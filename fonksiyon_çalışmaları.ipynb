{
 "cells": [
  {
   "cell_type": "code",
   "execution_count": 21,
   "id": "b5c9aaba",
   "metadata": {},
   "outputs": [
    {
     "name": "stdout",
     "output_type": "stream",
     "text": [
      "6\n",
      "28\n",
      "496\n"
     ]
    }
   ],
   "source": [
    "def mukemmelsayi(sayi):\n",
    "    toplam =0\n",
    "    for i in range(1,sayi):\n",
    "        if( sayi % i == 0):\n",
    "            toplam +=i\n",
    "    return sayi == toplam\n",
    "for i in range(1,1001):\n",
    "    if(mukemmelsayi(i)):\n",
    "        print(i)\n"
   ]
  },
  {
   "cell_type": "code",
   "execution_count": 27,
   "id": "8240af03",
   "metadata": {},
   "outputs": [
    {
     "name": "stdout",
     "output_type": "stream",
     "text": [
      "ilk değer:12\n",
      "ikinci değer:16\n",
      "ebob 4\n"
     ]
    }
   ],
   "source": [
    "def ebob(sayi1,sayi2):\n",
    "    ortakbolen=0\n",
    "    if(sayi1 == sayi2):\n",
    "        return sayi1\n",
    "    if(sayi1>sayi2):\n",
    "        for i in range(1,sayi2):\n",
    "            if(sayi2%i == 0):\n",
    "                if(sayi1%i == 0):\n",
    "                    ortakbolen=i\n",
    "    if(sayi2>sayi1):\n",
    "        for i in range(1,sayi1):\n",
    "            if(sayi1%i == 0):\n",
    "                if(sayi2%i == 0):\n",
    "                    ortakbolen=i    \n",
    "    return ortakbolen\n",
    "x=int(input(\"ilk değer:\"))\n",
    "y=int(input(\"ikinci değer:\"))\n",
    "print(\"ebob\",ebob(x,y))\n",
    "    "
   ]
  },
  {
   "cell_type": "code",
   "execution_count": 30,
   "id": "99db24ac",
   "metadata": {},
   "outputs": [
    {
     "name": "stdout",
     "output_type": "stream",
     "text": [
      "ilk değer:16\n",
      "ikinci değer:10\n",
      "ekok: 80\n"
     ]
    }
   ],
   "source": [
    "def ekok(sayi1,sayi2):\n",
    "    if(sayi1 == sayi2):\n",
    "        return sayi1\n",
    "    if(sayi1>sayi2):\n",
    "        i=sayi1\n",
    "        while True:\n",
    "            if(i%sayi1 == 0 and i%sayi2==0):\n",
    "                return i\n",
    "            else:\n",
    "                i+=1\n",
    "    if(sayi2>sayi1):\n",
    "        i=sayi2\n",
    "        while True:\n",
    "            if(i%sayi2 == 0 and i%sayi1==0):\n",
    "                return i\n",
    "            else:\n",
    "                i+=1\n",
    "x=int(input(\"ilk değer:\"))\n",
    "y=int(input(\"ikinci değer:\"))\n",
    "print(\"ekok:\",ekok(x,y))"
   ]
  },
  {
   "cell_type": "code",
   "execution_count": 2,
   "id": "2afa657e",
   "metadata": {
    "scrolled": true
   },
   "outputs": [
    {
     "name": "stdout",
     "output_type": "stream",
     "text": [
      "sayi giriniz:90\n",
      "doksan\n"
     ]
    }
   ],
   "source": [
    "def sayiokunus(sayi):\n",
    "    x=int(sayi)/10\n",
    "    if (int(x)==1):\n",
    "        print(\"on\")\n",
    "    if (int(x)==2):\n",
    "        print(\"yirmi\")\n",
    "    if (int(x)==3):\n",
    "        print(\"otuz\")\n",
    "    if (int(x)==4):\n",
    "        print(\"kırk\")\n",
    "    if (int(x)==5):\n",
    "        print(\"elli\")\n",
    "    if (int(x)==6):\n",
    "        print(\"altmış\")\n",
    "    if (int(x)==7):\n",
    "        print(\"yetmiş\")\n",
    "    if (int(x)==8):\n",
    "        print(\"seksen\")\n",
    "    if (int(x)==9):\n",
    "        print(\"doksan\")\n",
    "    y=int(sayi)%10\n",
    "    if (y==1):\n",
    "        print(\"bir\")\n",
    "    if (y==2):\n",
    "        print(\"iki\")\n",
    "    if (y==3):\n",
    "        print(\"üç\")\n",
    "    if (y==4):\n",
    "        print(\"dört\")\n",
    "    if (y==5):\n",
    "        print(\"beş\")\n",
    "    if (y==6):\n",
    "        print(\"altı\")\n",
    "    if (y==7):\n",
    "        print(\"yedi\")\n",
    "    if (y==8):\n",
    "        print(\"sekiz\")\n",
    "    if (y==9):\n",
    "        print(\"dokuz\")\n",
    "i=input(\"sayi giriniz:\")\n",
    "sayiokunus(int(i))"
   ]
  }
 ],
 "metadata": {
  "kernelspec": {
   "display_name": "Python 3 (ipykernel)",
   "language": "python",
   "name": "python3"
  },
  "language_info": {
   "codemirror_mode": {
    "name": "ipython",
    "version": 3
   },
   "file_extension": ".py",
   "mimetype": "text/x-python",
   "name": "python",
   "nbconvert_exporter": "python",
   "pygments_lexer": "ipython3",
   "version": "3.9.13"
  }
 },
 "nbformat": 4,
 "nbformat_minor": 5
}

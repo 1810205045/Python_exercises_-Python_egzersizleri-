{
 "cells": [
  {
   "cell_type": "code",
   "execution_count": 9,
   "id": "4b19c788",
   "metadata": {},
   "outputs": [
    {
     "name": "stdout",
     "output_type": "stream",
     "text": [
      "please enter a number for faktoriel \n",
      "5\n",
      "faktoriel of 5 is: 120\n"
     ]
    }
   ],
   "source": [
    "#faktoriel\n",
    "x=int(input(\"please enter a number for faktoriel \\n\"))\n",
    "faktoriel=1\n",
    "for i in range (1,x+1):\n",
    "    faktoriel*=i\n",
    "print(\"faktoriel of {} is: {}\".format(x,faktoriel))"
   ]
  },
  {
   "cell_type": "code",
   "execution_count": 17,
   "id": "aed3699e",
   "metadata": {},
   "outputs": [
    {
     "name": "stdout",
     "output_type": "stream",
     "text": [
      "please enter lenght of fibonacci \n",
      "7\n",
      "\n",
      " 2\n",
      "\n",
      " 3\n",
      "\n",
      " 5\n",
      "\n",
      " 8\n",
      "\n",
      " 13\n",
      "\n",
      " 21\n",
      "\n",
      " 34\n"
     ]
    }
   ],
   "source": [
    "#fibonacci\n",
    "x=int(input(\"please enter lenght of fibonacci \\n\"))\n",
    "a=1\n",
    "b=1\n",
    "fibonacci=[a,b]\n",
    "for i in range(x):\n",
    "    temp=a;\n",
    "    a=b\n",
    "    b=a+temp\n",
    "    fibonacci[0]=a\n",
    "    fibonacci[1]=b\n",
    "    print(\"\\n\",fibonacci[1])\n",
    "    "
   ]
  },
  {
   "cell_type": "code",
   "execution_count": null,
   "id": "91a3ef06",
   "metadata": {},
   "outputs": [],
   "source": []
  },
  {
   "cell_type": "code",
   "execution_count": null,
   "id": "9cfdf556",
   "metadata": {},
   "outputs": [],
   "source": []
  }
 ],
 "metadata": {
  "kernelspec": {
   "display_name": "Python 3 (ipykernel)",
   "language": "python",
   "name": "python3"
  },
  "language_info": {
   "codemirror_mode": {
    "name": "ipython",
    "version": 3
   },
   "file_extension": ".py",
   "mimetype": "text/x-python",
   "name": "python",
   "nbconvert_exporter": "python",
   "pygments_lexer": "ipython3",
   "version": "3.9.13"
  }
 },
 "nbformat": 4,
 "nbformat_minor": 5
}

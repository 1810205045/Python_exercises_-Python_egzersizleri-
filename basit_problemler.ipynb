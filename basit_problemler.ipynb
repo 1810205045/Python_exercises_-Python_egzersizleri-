{
 "cells": [
  {
   "cell_type": "code",
   "execution_count": 4,
   "id": "5e68da83",
   "metadata": {},
   "outputs": [
    {
     "name": "stdout",
     "output_type": "stream",
     "text": [
      "sayı girin: 17\n",
      "hesaplanıyor...\n",
      "mükemmel sayı değil\n"
     ]
    }
   ],
   "source": [
    "#mükemmel sayı\n",
    "x=int(input(\"sayı girin: \"))\n",
    "toplam=0\n",
    "for i in range(x-1):\n",
    "    if(i==0):\n",
    "        print(\"hesaplanıyor...\")\n",
    "    else:\n",
    "        if(x%i == 0):\n",
    "            toplam= i+toplam\n",
    "if(toplam== x):\n",
    "    print(\"mükemmel sayı\")\n",
    "else:\n",
    "    print(\"mükemmel sayı değil\")"
   ]
  },
  {
   "cell_type": "code",
   "execution_count": 5,
   "id": "febdbadd",
   "metadata": {},
   "outputs": [
    {
     "name": "stdout",
     "output_type": "stream",
     "text": [
      "sayi girin çıkmak için ise 'q'ya basın3\n",
      "sayi girin çıkmak için ise 'q'ya basın6\n",
      "sayi girin çıkmak için ise 'q'ya basın4\n",
      "sayi girin çıkmak için ise 'q'ya basın7\n",
      "sayi girin çıkmak için ise 'q'ya basın8\n",
      "sayi girin çıkmak için ise 'q'ya basın9\n",
      "sayi girin çıkmak için ise 'q'ya basın1\n",
      "sayi girin çıkmak için ise 'q'ya basınq\n",
      "toplam sayı 38\n"
     ]
    }
   ],
   "source": [
    "#sayıların toplamı\n",
    "toplam=0\n",
    "while True:\n",
    "    x=input(\"sayi girin çıkmak için ise 'q'ya basın\")\n",
    "    if(x==\"q\"):\n",
    "        break\n",
    "    toplam+= int(x)\n",
    "print(\"toplam sayı\",toplam)"
   ]
  },
  {
   "cell_type": "code",
   "execution_count": 2,
   "id": "6ed720dd",
   "metadata": {},
   "outputs": [
    {
     "name": "stdout",
     "output_type": "stream",
     "text": [
      "3\n",
      "6\n",
      "9\n",
      "12\n",
      "15\n",
      "18\n",
      "21\n",
      "24\n",
      "27\n",
      "30\n",
      "33\n",
      "36\n",
      "39\n",
      "42\n",
      "45\n",
      "48\n",
      "51\n",
      "54\n",
      "57\n",
      "60\n",
      "63\n",
      "66\n",
      "69\n",
      "72\n",
      "75\n",
      "78\n",
      "81\n",
      "84\n",
      "87\n",
      "90\n",
      "93\n",
      "96\n",
      "99\n"
     ]
    }
   ],
   "source": [
    "#1'den 100'e kadar 3'ün katı olan sayılar\n",
    "for i in range(1,100):\n",
    "    if(i>2 and i%3 == 0):\n",
    "        print(i)\n"
   ]
  },
  {
   "cell_type": "code",
   "execution_count": 1,
   "id": "9f2e4ae2",
   "metadata": {},
   "outputs": [
    {
     "name": "stdout",
     "output_type": "stream",
     "text": [
      "armstrong için sayı girin: 1634\n",
      "1634'ioluşturan tam sayılar: 1 6 3 4\n",
      "armstrong sayısı\n"
     ]
    }
   ],
   "source": [
    "#4 basamaklı armstrong sayıları\n",
    "x=int(input(\"armstrong için sayı girin: \"))\n",
    "temp=x\n",
    "x1=x/1000\n",
    "x=x%1000\n",
    "x2=x/100\n",
    "x=x%100\n",
    "x3=x/10\n",
    "x=x%10\n",
    "x4=x/1\n",
    "x1=int(x1)\n",
    "x2=int(x2)\n",
    "x3=int(x3)\n",
    "x4=int(x4)\n",
    "print(\"{}'ioluşturan tam sayılar: {} {} {} {}\".format(temp,x1,x2,x3,x4))\n",
    "toplam=x1**4+x2**4+x3**4+x4**4\n",
    "if(toplam == temp):\n",
    "    print(\"armstrong sayısı\")\n",
    "else:\n",
    "    print(\"armstrong sayısı değil\")"
   ]
  },
  {
   "cell_type": "code",
   "execution_count": null,
   "id": "e91614e3",
   "metadata": {},
   "outputs": [],
   "source": []
  }
 ],
 "metadata": {
  "kernelspec": {
   "display_name": "Python 3 (ipykernel)",
   "language": "python",
   "name": "python3"
  },
  "language_info": {
   "codemirror_mode": {
    "name": "ipython",
    "version": 3
   },
   "file_extension": ".py",
   "mimetype": "text/x-python",
   "name": "python",
   "nbconvert_exporter": "python",
   "pygments_lexer": "ipython3",
   "version": "3.9.13"
  }
 },
 "nbformat": 4,
 "nbformat_minor": 5
}

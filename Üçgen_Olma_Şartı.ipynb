{
 "cells": [
  {
   "cell_type": "code",
   "execution_count": 1,
   "id": "a4595970",
   "metadata": {},
   "outputs": [
    {
     "name": "stdout",
     "output_type": "stream",
     "text": [
      "üçgen için 3 e basın, dörtgen için 4 e basın3\n",
      "kenarları sırası ile girin\n",
      "kenar a:12\n",
      "kenar b:1\n",
      "kenar c:1\n",
      "üçgen belirtmiyor\n"
     ]
    }
   ],
   "source": [
    "key=int(input(\"üçgen için 3 e basın, dörtgen için 4 e basın\"))\n",
    "if(key == 3):\n",
    "    print(\"kenarları sırası ile girin\")\n",
    "    a= int(input(\"kenar a:\"))\n",
    "    b= int(input(\"kenar b:\"))\n",
    "    c= int(input(\"kenar c:\"))\n",
    "    if(b-c<a<b+c or c-b<a<b+c) and (a-c<b<a+c or c-a<b<a+c) and (a-b<c<a+b or b-a<c<a+b):\n",
    "        print(\"üçgen belirtiyor\")\n",
    "    else:\n",
    "        print(\"üçgen belirtmiyor\")\n",
    "if(key==4):\n",
    "    a= int(input(\"kenar a:\"))\n",
    "    b= int(input(\"kenar b:\"))\n",
    "    c= int(input(\"kenar c:\"))\n",
    "    d= int(input(\"kenar d:\"))\n",
    "    if (a != b and a != c and a != d) and (b !=c and b !=d) and (c!=d):\n",
    "        print(\"normal dötgen\")\n",
    "    elif(a==b and a==c and a==d):\n",
    "        print(\"kare\")\n",
    "    else:\n",
    "        print(\"dikdörtgen\")"
   ]
  },
  {
   "cell_type": "code",
   "execution_count": null,
   "id": "5d20e127",
   "metadata": {},
   "outputs": [],
   "source": []
  }
 ],
 "metadata": {
  "kernelspec": {
   "display_name": "Python 3 (ipykernel)",
   "language": "python",
   "name": "python3"
  },
  "language_info": {
   "codemirror_mode": {
    "name": "ipython",
    "version": 3
   },
   "file_extension": ".py",
   "mimetype": "text/x-python",
   "name": "python",
   "nbconvert_exporter": "python",
   "pygments_lexer": "ipython3",
   "version": "3.9.13"
  }
 },
 "nbformat": 4,
 "nbformat_minor": 5
}
